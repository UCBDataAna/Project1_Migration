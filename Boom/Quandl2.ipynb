{
 "cells": [
  {
   "cell_type": "code",
   "execution_count": 3,
   "metadata": {},
   "outputs": [],
   "source": [
    "import numpy as np\n",
    "from scipy import stats\n",
    "import pandas as pd\n",
    "from pprint import pprint\n",
    "import matplotlib.pyplot as plt\n",
    "import requests\n",
    "from new import gkey\n",
    "from new import gkey2\n",
    "import quandl\n"
   ]
  },
  {
   "cell_type": "code",
   "execution_count": 15,
   "metadata": {},
   "outputs": [
    {
     "name": "stdout",
     "output_type": "stream",
     "text": [
      "Index(['Unnamed: 0', 'FULL1_NAME', 'Unnamed: 0_x', 'MOVEDIN', 'MOVEDOUT',\n",
      "       'GEOID2', 'GEOID1', 'MOVEDNET', 'state', 'county', 'County',\n",
      "       'Unnamed: 0_y', '2009 Median Price', '2010 Median Price',\n",
      "       '2011 Median Price', '2012 Median Price', '2013 Median Price',\n",
      "       '2014 Median Price', '2015 Median Price', '2016 Median Price',\n",
      "       '2010 Difference', '2011 Difference', '2012 Difference',\n",
      "       '2013 Difference', '2014 Difference', '2015 Difference',\n",
      "       '2016 Difference', '2010 Percent Change', '2011 Percent Change',\n",
      "       '2012 Percent Change', '2013 Percent Change', '2014 Percent Change',\n",
      "       '2015 Percent Change', '2016 Percent Change'],\n",
      "      dtype='object')\n"
     ]
    }
   ],
   "source": [
    "read_csv = pd.read_csv('..\\zillow_census_m_OUTPUT.csv')\n",
    "read_csv.head(5)\n",
    "headers = read_csv.columns\n",
    "print(headers)"
   ]
  },
  {
   "cell_type": "code",
   "execution_count": 17,
   "metadata": {},
   "outputs": [
    {
     "data": {
      "text/html": [
       "<div>\n",
       "<style scoped>\n",
       "    .dataframe tbody tr th:only-of-type {\n",
       "        vertical-align: middle;\n",
       "    }\n",
       "\n",
       "    .dataframe tbody tr th {\n",
       "        vertical-align: top;\n",
       "    }\n",
       "\n",
       "    .dataframe thead th {\n",
       "        text-align: right;\n",
       "    }\n",
       "</style>\n",
       "<table border=\"1\" class=\"dataframe\">\n",
       "  <thead>\n",
       "    <tr style=\"text-align: right;\">\n",
       "      <th></th>\n",
       "      <th>FULL1_NAME</th>\n",
       "      <th>MOVEDNET</th>\n",
       "      <th>2010 Median Price</th>\n",
       "      <th>2011 Median Price</th>\n",
       "      <th>2012 Median Price</th>\n",
       "      <th>2013 Median Price</th>\n",
       "      <th>2014 Median Price</th>\n",
       "      <th>2015 Median Price</th>\n",
       "      <th>2016 Median Price</th>\n",
       "      <th>new_column</th>\n",
       "    </tr>\n",
       "  </thead>\n",
       "  <tbody>\n",
       "    <tr>\n",
       "      <th>0</th>\n",
       "      <td>Accomack County, Virginia</td>\n",
       "      <td>-527.0</td>\n",
       "      <td>143443.0</td>\n",
       "      <td>141887.0</td>\n",
       "      <td>143796.0</td>\n",
       "      <td>131788.0</td>\n",
       "      <td>139045</td>\n",
       "      <td>139419</td>\n",
       "      <td>145444.0</td>\n",
       "      <td>Virginia</td>\n",
       "    </tr>\n",
       "    <tr>\n",
       "      <th>1</th>\n",
       "      <td>Ada County, Idaho</td>\n",
       "      <td>5012.0</td>\n",
       "      <td>166100.0</td>\n",
       "      <td>154400.0</td>\n",
       "      <td>164100.0</td>\n",
       "      <td>189800.0</td>\n",
       "      <td>197600</td>\n",
       "      <td>212100</td>\n",
       "      <td>236500.0</td>\n",
       "      <td>Idaho</td>\n",
       "    </tr>\n",
       "    <tr>\n",
       "      <th>2</th>\n",
       "      <td>Adair County, Missouri</td>\n",
       "      <td>-58.0</td>\n",
       "      <td>71300.0</td>\n",
       "      <td>68300.0</td>\n",
       "      <td>67300.0</td>\n",
       "      <td>67300.0</td>\n",
       "      <td>71300</td>\n",
       "      <td>76700</td>\n",
       "      <td>82100.0</td>\n",
       "      <td>Missouri</td>\n",
       "    </tr>\n",
       "    <tr>\n",
       "      <th>3</th>\n",
       "      <td>Adams County, Colorado</td>\n",
       "      <td>6423.0</td>\n",
       "      <td>165000.0</td>\n",
       "      <td>164000.0</td>\n",
       "      <td>177500.0</td>\n",
       "      <td>194800.0</td>\n",
       "      <td>221900</td>\n",
       "      <td>257400</td>\n",
       "      <td>289100.0</td>\n",
       "      <td>Colorado</td>\n",
       "    </tr>\n",
       "    <tr>\n",
       "      <th>4</th>\n",
       "      <td>Adams County, Idaho</td>\n",
       "      <td>-71.0</td>\n",
       "      <td>146700.0</td>\n",
       "      <td>141800.0</td>\n",
       "      <td>145400.0</td>\n",
       "      <td>158400.0</td>\n",
       "      <td>167000</td>\n",
       "      <td>178600</td>\n",
       "      <td>216900.0</td>\n",
       "      <td>Idaho</td>\n",
       "    </tr>\n",
       "  </tbody>\n",
       "</table>\n",
       "</div>"
      ],
      "text/plain": [
       "                  FULL1_NAME  MOVEDNET  2010 Median Price  2011 Median Price  \\\n",
       "0  Accomack County, Virginia    -527.0           143443.0           141887.0   \n",
       "1          Ada County, Idaho    5012.0           166100.0           154400.0   \n",
       "2     Adair County, Missouri     -58.0            71300.0            68300.0   \n",
       "3     Adams County, Colorado    6423.0           165000.0           164000.0   \n",
       "4        Adams County, Idaho     -71.0           146700.0           141800.0   \n",
       "\n",
       "   2012 Median Price  2013 Median Price  2014 Median Price  2015 Median Price  \\\n",
       "0           143796.0           131788.0             139045             139419   \n",
       "1           164100.0           189800.0             197600             212100   \n",
       "2            67300.0            67300.0              71300              76700   \n",
       "3           177500.0           194800.0             221900             257400   \n",
       "4           145400.0           158400.0             167000             178600   \n",
       "\n",
       "   2016 Median Price new_column  \n",
       "0           145444.0   Virginia  \n",
       "1           236500.0      Idaho  \n",
       "2            82100.0   Missouri  \n",
       "3           289100.0   Colorado  \n",
       "4           216900.0      Idaho  "
      ]
     },
     "execution_count": 17,
     "metadata": {},
     "output_type": "execute_result"
    }
   ],
   "source": [
    "\n",
    "\n",
    "johnjohn = read_csv.loc[:, [\"FULL1_NAME\", \"2010NET\", \"2011NET\", \"2012NET\", \"2013NET\"\n",
    "                            , \"2014NET\", \"2015NET\", \"2016NET\", \"2010 Median Price\", \n",
    "                            \"2011 Median Price\", \"2012 Median Price\", \"2013 Median Price\", \n",
    "                            \"2014 Median Price\", \"2015 Median Price\", \"2016 Median Price\"]]\n",
    "johnjohn.head(15)\n",
    "\n",
    "john_boy = johnjohn[\"FULL1_NAME\"].str.split(pat=', ', expand=True)\n",
    "john_boy.head()\n",
    "\n",
    "johnjohn['new_column'] = john_boy[1]\n",
    "johnjohn.head()\n",
    "\n"
   ]
  },
  {
   "cell_type": "code",
   "execution_count": 10,
   "metadata": {},
   "outputs": [
    {
     "data": {
      "text/html": [
       "<div>\n",
       "<style scoped>\n",
       "    .dataframe tbody tr th:only-of-type {\n",
       "        vertical-align: middle;\n",
       "    }\n",
       "\n",
       "    .dataframe tbody tr th {\n",
       "        vertical-align: top;\n",
       "    }\n",
       "\n",
       "    .dataframe thead th {\n",
       "        text-align: right;\n",
       "    }\n",
       "</style>\n",
       "<table border=\"1\" class=\"dataframe\">\n",
       "  <thead>\n",
       "    <tr style=\"text-align: right;\">\n",
       "      <th></th>\n",
       "      <th></th>\n",
       "      <th>MOVEDNET</th>\n",
       "      <th>Difference</th>\n",
       "    </tr>\n",
       "    <tr>\n",
       "      <th>new_column</th>\n",
       "      <th>FULL1_NAME</th>\n",
       "      <th></th>\n",
       "      <th></th>\n",
       "    </tr>\n",
       "  </thead>\n",
       "  <tbody>\n",
       "    <tr>\n",
       "      <th rowspan=\"5\" valign=\"top\">Alabama</th>\n",
       "      <th>Autauga County, Alabama</th>\n",
       "      <td>607.0</td>\n",
       "      <td>0.0</td>\n",
       "    </tr>\n",
       "    <tr>\n",
       "      <th>Baldwin County, Alabama</th>\n",
       "      <td>4499.0</td>\n",
       "      <td>0.0</td>\n",
       "    </tr>\n",
       "    <tr>\n",
       "      <th>Blount County, Alabama</th>\n",
       "      <td>361.0</td>\n",
       "      <td>0.0</td>\n",
       "    </tr>\n",
       "    <tr>\n",
       "      <th>Chambers County, Alabama</th>\n",
       "      <td>-67.0</td>\n",
       "      <td>0.0</td>\n",
       "    </tr>\n",
       "    <tr>\n",
       "      <th>Cherokee County, Alabama</th>\n",
       "      <td>63.0</td>\n",
       "      <td>0.0</td>\n",
       "    </tr>\n",
       "  </tbody>\n",
       "</table>\n",
       "</div>"
      ],
      "text/plain": [
       "                                     MOVEDNET  Difference\n",
       "new_column FULL1_NAME                                    \n",
       "Alabama    Autauga County, Alabama      607.0         0.0\n",
       "           Baldwin County, Alabama     4499.0         0.0\n",
       "           Blount County, Alabama       361.0         0.0\n",
       "           Chambers County, Alabama     -67.0         0.0\n",
       "           Cherokee County, Alabama      63.0         0.0"
      ]
     },
     "execution_count": 10,
     "metadata": {},
     "output_type": "execute_result"
    }
   ],
   "source": [
    "do_do = johnjohn.groupby(['new_column', 'FULL1_NAME'])\n",
    "do_do.sum().head()"
   ]
  },
  {
   "cell_type": "code",
   "execution_count": 11,
   "metadata": {},
   "outputs": [
    {
     "ename": "AttributeError",
     "evalue": "Cannot access callable attribute 'rename' of 'DataFrameGroupBy' objects, try using the 'apply' method",
     "output_type": "error",
     "traceback": [
      "\u001b[1;31m---------------------------------------------------------------------------\u001b[0m",
      "\u001b[1;31mAttributeError\u001b[0m                            Traceback (most recent call last)",
      "\u001b[1;32m<ipython-input-11-b445518b52e7>\u001b[0m in \u001b[0;36m<module>\u001b[1;34m()\u001b[0m\n\u001b[1;32m----> 1\u001b[1;33m \u001b[0mfinal_file\u001b[0m \u001b[1;33m=\u001b[0m \u001b[0mdo_do\u001b[0m\u001b[1;33m.\u001b[0m\u001b[0mrename\u001b[0m\u001b[1;33m(\u001b[0m\u001b[0mcolumns\u001b[0m\u001b[1;33m=\u001b[0m\u001b[1;33m{\u001b[0m\u001b[1;34m\"new_column\"\u001b[0m\u001b[1;33m:\u001b[0m\u001b[1;34m'State'\u001b[0m\u001b[1;33m,\u001b[0m \u001b[1;34m'FULL1_NAME'\u001b[0m\u001b[1;33m:\u001b[0m\u001b[1;34m'County'\u001b[0m\u001b[1;33m,\u001b[0m \u001b[1;34m'MOVEDNET'\u001b[0m\u001b[1;33m:\u001b[0m\u001b[1;34m'Moved Net'\u001b[0m\u001b[1;33m,\u001b[0m \u001b[1;34m'Difference'\u001b[0m\u001b[1;33m:\u001b[0m\u001b[1;34m'Median Price Difference'\u001b[0m\u001b[1;33m}\u001b[0m\u001b[1;33m)\u001b[0m\u001b[1;33m\u001b[0m\u001b[0m\n\u001b[0m\u001b[0;32m      2\u001b[0m \u001b[1;31m# df = johnjohn.loc[johnjohn[\"new_column\"] == \"Texas\", :]\u001b[0m\u001b[1;33m\u001b[0m\u001b[1;33m\u001b[0m\u001b[0m\n\u001b[0;32m      3\u001b[0m \u001b[1;31m# df.head()\u001b[0m\u001b[1;33m\u001b[0m\u001b[1;33m\u001b[0m\u001b[0m\n",
      "\u001b[1;32m~\\Anaconda3\\lib\\site-packages\\pandas\\core\\groupby\\groupby.py\u001b[0m in \u001b[0;36m__getattr__\u001b[1;34m(self, attr)\u001b[0m\n\u001b[0;32m    760\u001b[0m             \u001b[1;32mreturn\u001b[0m \u001b[0mself\u001b[0m\u001b[1;33m[\u001b[0m\u001b[0mattr\u001b[0m\u001b[1;33m]\u001b[0m\u001b[1;33m\u001b[0m\u001b[0m\n\u001b[0;32m    761\u001b[0m         \u001b[1;32mif\u001b[0m \u001b[0mhasattr\u001b[0m\u001b[1;33m(\u001b[0m\u001b[0mself\u001b[0m\u001b[1;33m.\u001b[0m\u001b[0mobj\u001b[0m\u001b[1;33m,\u001b[0m \u001b[0mattr\u001b[0m\u001b[1;33m)\u001b[0m\u001b[1;33m:\u001b[0m\u001b[1;33m\u001b[0m\u001b[0m\n\u001b[1;32m--> 762\u001b[1;33m             \u001b[1;32mreturn\u001b[0m \u001b[0mself\u001b[0m\u001b[1;33m.\u001b[0m\u001b[0m_make_wrapper\u001b[0m\u001b[1;33m(\u001b[0m\u001b[0mattr\u001b[0m\u001b[1;33m)\u001b[0m\u001b[1;33m\u001b[0m\u001b[0m\n\u001b[0m\u001b[0;32m    763\u001b[0m \u001b[1;33m\u001b[0m\u001b[0m\n\u001b[0;32m    764\u001b[0m         raise AttributeError(\"%r object has no attribute %r\" %\n",
      "\u001b[1;32m~\\Anaconda3\\lib\\site-packages\\pandas\\core\\groupby\\groupby.py\u001b[0m in \u001b[0;36m_make_wrapper\u001b[1;34m(self, name)\u001b[0m\n\u001b[0;32m    797\u001b[0m                    \"using the 'apply' method\".format(kind, name,\n\u001b[0;32m    798\u001b[0m                                                      type(self).__name__))\n\u001b[1;32m--> 799\u001b[1;33m             \u001b[1;32mraise\u001b[0m \u001b[0mAttributeError\u001b[0m\u001b[1;33m(\u001b[0m\u001b[0mmsg\u001b[0m\u001b[1;33m)\u001b[0m\u001b[1;33m\u001b[0m\u001b[0m\n\u001b[0m\u001b[0;32m    800\u001b[0m \u001b[1;33m\u001b[0m\u001b[0m\n\u001b[0;32m    801\u001b[0m         \u001b[0mself\u001b[0m\u001b[1;33m.\u001b[0m\u001b[0m_set_group_selection\u001b[0m\u001b[1;33m(\u001b[0m\u001b[1;33m)\u001b[0m\u001b[1;33m\u001b[0m\u001b[0m\n",
      "\u001b[1;31mAttributeError\u001b[0m: Cannot access callable attribute 'rename' of 'DataFrameGroupBy' objects, try using the 'apply' method"
     ]
    }
   ],
   "source": [
    "final_file = do_do.rename(columns={\"new_column\":'State', 'FULL1_NAME':'County', 'MOVEDNET':'Moved Net', 'Difference':'Median Price Difference'})\n",
    "# df = johnjohn.loc[johnjohn[\"new_column\"] == \"Texas\", :]\n",
    "# df.head()"
   ]
  },
  {
   "cell_type": "code",
   "execution_count": 6,
   "metadata": {},
   "outputs": [
    {
     "data": {
      "image/png": "[encoded data removed]",
      "text/plain": [
       "<Figure size 1440x720 with 1 Axes>"
      ]
     },
     "metadata": {
      "needs_background": "light"
     },
     "output_type": "display_data"
    }
   ],
   "source": [
    "# Create a scatter plot which compares MPG to horsepower\n",
    "johnjohn.plot(kind=\"scatter\", x=\"MOVEDNET\", y=\"Difference\", grid=True, figsize=(20,10),\n",
    "              title=\"Housing Migration Plot\")\n",
    "\n",
    "plt.xlim(-5000, 7500)\n",
    "\n",
    "plt.show()"
   ]
  },
  {
   "cell_type": "code",
   "execution_count": 7,
   "metadata": {},
   "outputs": [],
   "source": [
    "# Grab difference in prices\n",
    "difference = johnjohn[\"Difference\"]\n",
    "moved_net = johnjohn.iloc[:, 2]\n",
    "vc_slope, vc_int, vc_r, vc_p, vc_std_err = stats.linregress(difference, moved_net)\n",
    "vc_fit = vc_slope * difference + vc_int"
   ]
  },
  {
   "cell_type": "code",
   "execution_count": 9,
   "metadata": {},
   "outputs": [],
   "source": [
    "# def rsquared(difference, moved_net):\n",
    "#     slope, intercept, r_value, p_value, std_err = scipy.stats.linregress(difference, moved_net)\n",
    "#     return r_value**2\n",
    "\n",
    "# print('rsquared:', r_value)"
   ]
  },
  {
   "cell_type": "code",
   "execution_count": 10,
   "metadata": {},
   "outputs": [
    {
     "data": {
      "text/plain": [
       "Text(0,0.5,'Moved Net')"
      ]
     },
     "execution_count": 10,
     "metadata": {},
     "output_type": "execute_result"
    },
    {
     "data": {
      "image/png": "[encoded data removed]",
      "text/plain": [
       "<Figure size 432x288 with 1 Axes>"
      ]
     },
     "metadata": {
      "needs_background": "light"
     },
     "output_type": "display_data"
    }
   ],
   "source": [
    "# Plot\n",
    "fig, (ax1) = plt.subplots(1, sharex=True)\n",
    "fig.suptitle(\"Regression\", fontsize=16, fontweight=\"bold\")\n",
    "\n",
    "ax1.set_xlim(min(difference), max(difference))\n",
    "ax1.set_ylim(-20000,80000)\n",
    "ax1.plot(difference, moved_net, linewidth=0, marker=\"o\")\n",
    "ax1.plot(difference, vc_fit, \"b--\", linewidth=1)\n",
    "ax1.set_ylabel(\"Moved Net\")"
   ]
  },
  {
   "cell_type": "code",
   "execution_count": 31,
   "metadata": {},
   "outputs": [
    {
     "name": "stdout",
     "output_type": "stream",
     "text": [
      "Rsqr: 0.014350781153328404\n"
     ]
    }
   ],
   "source": [
    "print(\"Rsqr:\", vc_r**2)"
   ]
  },
  {
   "cell_type": "code",
   "execution_count": null,
   "metadata": {},
   "outputs": [],
   "source": []
  }
 ],
 "metadata": {
  "kernelspec": {
   "display_name": "Python 3",
   "language": "python",
   "name": "python3"
  },
  "language_info": {
   "codemirror_mode": {
    "name": "ipython",
    "version": 3
   },
   "file_extension": ".py",
   "mimetype": "text/x-python",
   "name": "python",
   "nbconvert_exporter": "python",
   "pygments_lexer": "ipython3",
   "version": "3.6.5"
  }
 },
 "nbformat": 4,
 "nbformat_minor": 2
}
