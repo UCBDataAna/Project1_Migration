{
 "cells": [
  {
   "cell_type": "code",
<<<<<<< HEAD
   "execution_count": 5,
=======
   "execution_count": 14,
>>>>>>> zillow_merge
   "metadata": {},
   "outputs": [],
   "source": [
    "#Dependencies and api_keys\n",
    "import requests\n",
    "import pandas as pd\n",
    "from pprint import pprint\n",
    "from config import census_key\n",
    "import json\n",
    "import pandas as pd"
   ]
  },
  {
   "cell_type": "code",
<<<<<<< HEAD
   "execution_count": 14,
=======
   "execution_count": null,
   "metadata": {},
   "outputs": [],
   "source": []
  },
  {
   "cell_type": "code",
   "execution_count": 15,
>>>>>>> zillow_merge
   "metadata": {},
   "outputs": [
    {
     "data": {
      "text/html": [
       "<div>\n",
       "<style scoped>\n",
       "    .dataframe tbody tr th:only-of-type {\n",
       "        vertical-align: middle;\n",
       "    }\n",
       "\n",
       "    .dataframe tbody tr th {\n",
       "        vertical-align: top;\n",
       "    }\n",
       "\n",
       "    .dataframe thead th {\n",
       "        text-align: right;\n",
       "    }\n",
       "</style>\n",
       "<table border=\"1\" class=\"dataframe\">\n",
       "  <thead>\n",
       "    <tr style=\"text-align: right;\">\n",
       "      <th></th>\n",
       "      <th>0</th>\n",
       "      <th>1</th>\n",
       "      <th>2</th>\n",
       "      <th>3</th>\n",
       "      <th>4</th>\n",
       "      <th>5</th>\n",
       "      <th>6</th>\n",
       "      <th>7</th>\n",
       "      <th>8</th>\n",
       "    </tr>\n",
       "  </thead>\n",
       "  <tbody>\n",
       "    <tr>\n",
       "      <th>0</th>\n",
       "      <td>MOVEDIN</td>\n",
       "      <td>GEOID2</td>\n",
       "      <td>GEOID1</td>\n",
       "      <td>MOVEDNET</td>\n",
       "      <td>MOVEDOUT</td>\n",
       "      <td>FULL2_NAME</td>\n",
       "      <td>FULL1_NAME</td>\n",
       "      <td>state</td>\n",
       "      <td>county</td>\n",
       "    </tr>\n",
       "    <tr>\n",
       "      <th>1</th>\n",
       "      <td>619</td>\n",
       "      <td>None</td>\n",
       "      <td>06001</td>\n",
       "      <td>None</td>\n",
       "      <td>None</td>\n",
       "      <td>Africa</td>\n",
       "      <td>Alameda County, California</td>\n",
       "      <td>06</td>\n",
       "      <td>001</td>\n",
       "    </tr>\n",
       "    <tr>\n",
       "      <th>2</th>\n",
       "      <td>9225</td>\n",
       "      <td>None</td>\n",
       "      <td>06001</td>\n",
       "      <td>None</td>\n",
       "      <td>None</td>\n",
       "      <td>Asia</td>\n",
       "      <td>Alameda County, California</td>\n",
       "      <td>06</td>\n",
       "      <td>001</td>\n",
       "    </tr>\n",
       "    <tr>\n",
       "      <th>3</th>\n",
       "      <td>1357</td>\n",
       "      <td>None</td>\n",
       "      <td>06001</td>\n",
       "      <td>None</td>\n",
       "      <td>None</td>\n",
       "      <td>Central America</td>\n",
       "      <td>Alameda County, California</td>\n",
       "      <td>06</td>\n",
       "      <td>001</td>\n",
       "    </tr>\n",
       "    <tr>\n",
       "      <th>4</th>\n",
       "      <td>20</td>\n",
       "      <td>None</td>\n",
       "      <td>06001</td>\n",
       "      <td>None</td>\n",
       "      <td>None</td>\n",
       "      <td>Caribbean</td>\n",
       "      <td>Alameda County, California</td>\n",
       "      <td>06</td>\n",
       "      <td>001</td>\n",
       "    </tr>\n",
       "  </tbody>\n",
       "</table>\n",
       "</div>"
      ],
      "text/plain": [
       "         0       1       2         3         4                5  \\\n",
       "0  MOVEDIN  GEOID2  GEOID1  MOVEDNET  MOVEDOUT       FULL2_NAME   \n",
       "1      619    None   06001      None      None           Africa   \n",
       "2     9225    None   06001      None      None             Asia   \n",
       "3     1357    None   06001      None      None  Central America   \n",
       "4       20    None   06001      None      None        Caribbean   \n",
       "\n",
       "                            6      7       8  \n",
       "0                  FULL1_NAME  state  county  \n",
       "1  Alameda County, California     06     001  \n",
       "2  Alameda County, California     06     001  \n",
       "3  Alameda County, California     06     001  \n",
       "4  Alameda County, California     06     001  "
      ]
     },
<<<<<<< HEAD
     "execution_count": 14,
=======
     "execution_count": 15,
>>>>>>> zillow_merge
     "metadata": {},
     "output_type": "execute_result"
    }
   ],
   "source": [
    "\n",
    "census_test = requests.get('https://api.census.gov/data/2013/acs/flows?get=MOVEDIN,GEOID2,GEOID1,MOVEDNET,MOVEDOUT,FULL2_NAME,FULL1_NAME&for=county:*&in=state:06&key='+census_key).json()\n",
    "\n",
    "        \n",
    "census_df = pd.DataFrame(census_test)\n",
    "census_df.head()"
   ]
  },
  {
   "cell_type": "code",
   "execution_count": null,
   "metadata": {},
   "outputs": [],
<<<<<<< HEAD
   "source": [
    "# Loop through state code list, skipping states without data\n",
    "fail_master = []\n",
    "for code in state_codes:\n",
    "    try:\n",
    "        census_test = requests.get('https://api.census.gov/data/2009/acs/flows?get=MOVEDIN,MOVEDOUT,GEOID2,GEOID1,MOVEDNET,FULL2_NAME,FULL1_NAME' +\n",
    "                               '&for=county:*&in=state:{0}&key='.format(code) +\n",
    "                               census_key).json()\n",
    "        census_df = pd.DataFrame(census_test)\n",
    "        census_df.columns = census_df.iloc[0]\n",
    "        census_df = census_df[1:]\n",
    "        if code == '01':\n",
    "            census_master = census_df\n",
    "        else:\n",
    "            census_master = pd.concat([census_master, census_df])\n",
    "    except:\n",
    "        fail_master.append(code)"
   ]
=======
   "source": []
>>>>>>> zillow_merge
  },
  {
   "cell_type": "code",
   "execution_count": null,
   "metadata": {},
<<<<<<< HEAD
   "outputs": [
    {
     "data": {
      "text/plain": [
       "['03', '07', '14', '43']"
      ]
     },
     "execution_count": 40,
     "metadata": {},
     "output_type": "execute_result"
    }
   ],
   "source": [
    "fail_master"
   ]
  },
  {
   "cell_type": "code",
   "execution_count": null,
   "metadata": {},
=======
>>>>>>> zillow_merge
   "outputs": [],
   "source": []
  }
 ],
 "metadata": {
  "kernelspec": {
   "display_name": "Python 3",
   "language": "python",
   "name": "python3"
<<<<<<< HEAD
  },
  "language_info": {
   "codemirror_mode": {
    "name": "ipython",
    "version": 3
   },
   "file_extension": ".py",
   "mimetype": "text/x-python",
   "name": "python",
   "nbconvert_exporter": "python",
   "pygments_lexer": "ipython3",
   "version": "3.7.0"
=======
>>>>>>> zillow_merge
  }
 },
 "nbformat": 4,
 "nbformat_minor": 2
}
