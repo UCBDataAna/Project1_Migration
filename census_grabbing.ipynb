{
 "cells": [
  {
   "cell_type": "code",
   "execution_count": 1,
   "metadata": {},
   "outputs": [],
   "source": [
    "#Dependencies and api_keys\n",
    "import requests\n",
    "import pandas as pd\n",
    "from pprint import pprint\n",
    "from config import census_key\n",
    "import json"
   ]
  },
  {
   "cell_type": "code",
   "execution_count": 2,
   "metadata": {},
   "outputs": [
    {
     "data": {
      "text/plain": [
       "'01'"
      ]
     },
     "execution_count": 2,
     "metadata": {},
     "output_type": "execute_result"
    }
   ],
   "source": [
    "# Create list of state codes\n",
    "state_codes = []\n",
    "for number in range(1, 10):\n",
    "    state_codes.append('0{0}'.format(number))\n",
    "for number in range(11,52):\n",
    "    state_codes.append('{0}'.format(number))\n",
    "state_codes[0]"
   ]
  },
  {
   "cell_type": "code",
   "execution_count": 3,
   "metadata": {},
   "outputs": [],
   "source": [
    "# Loop through state code list, skipping states without data\n",
    "fail_master = []\n",
    "for code in state_codes:\n",
    "    try:\n",
    "        census_test = requests.get('https://api.census.gov/data/2009/acs/flows?get=MOVEDIN,MOVEDOUT,GEOID2,GEOID1,MOVEDNET,FULL2_NAME,FULL1_NAME' +\n",
    "                               '&for=county:*&in=state:{0}&key='.format(code) +\n",
    "                               census_key).json()\n",
    "        census_df = pd.DataFrame(census_test)\n",
    "        census_df.columns = census_df.iloc[0]\n",
    "        census_df = census_df[1:]\n",
    "        if code == '01':\n",
    "            census_master = census_df\n",
    "        else:\n",
    "            census_master = pd.concat([census_master, census_df])\n",
    "    except:\n",
    "        fail_master.append(code)"
   ]
  },
  {
   "cell_type": "code",
   "execution_count": 4,
   "metadata": {},
   "outputs": [
    {
     "data": {
      "text/plain": [
       "['03', '07', '14', '43']"
      ]
     },
     "execution_count": 4,
     "metadata": {},
     "output_type": "execute_result"
    }
   ],
   "source": [
    "fail_master"
   ]
  },
  {
   "cell_type": "code",
   "execution_count": 5,
   "metadata": {},
   "outputs": [],
   "source": [
    "census_master.to_csv('census_output.csv')"
   ]
  }
 ],
 "metadata": {
  "kernelspec": {
   "display_name": "Python 3",
   "language": "python",
   "name": "python3"
  },
  "language_info": {
   "codemirror_mode": {
    "name": "ipython",
    "version": 3
   },
   "file_extension": ".py",
   "mimetype": "text/x-python",
   "name": "python",
   "nbconvert_exporter": "python",
   "pygments_lexer": "ipython3",
   "version": "3.7.0"
  }
 },
 "nbformat": 4,
 "nbformat_minor": 2
}
