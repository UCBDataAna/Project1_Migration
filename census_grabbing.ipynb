{
 "cells": [
  {
   "cell_type": "code",
   "execution_count": 3,
   "metadata": {},
   "outputs": [],
   "source": [
    "#Dependencies and api_keys\n",
    "import requests\n",
    "import pandas as pd\n",
    "from pprint import pprint\n",
    "from config import census_key\n",
    "import json"
   ]
  },
  {
   "cell_type": "code",
   "execution_count": 4,
   "metadata": {},
   "outputs": [
    {
     "data": {
      "text/plain": [
       "'01'"
      ]
     },
     "execution_count": 4,
     "metadata": {},
     "output_type": "execute_result"
    }
   ],
   "source": [
    "# Create list of state codes\n",
    "state_codes = []\n",
    "for number in range(1, 10):\n",
    "    state_codes.append('0{0}'.format(number))\n",
    "for number in range(11,52):\n",
    "    state_codes.append('{0}'.format(number))\n",
    "state_codes[0]"
   ]
  },
  {
   "cell_type": "code",
   "execution_count": 33,
   "metadata": {},
   "outputs": [
    {
     "name": "stderr",
     "output_type": "stream",
     "text": [
      "C:\\Users\\samue\\Anaconda3\\lib\\site-packages\\ipykernel_launcher.py:20: FutureWarning: Sorting because non-concatenation axis is not aligned. A future version\n",
      "of pandas will change to not sort by default.\n",
      "\n",
      "To accept the future behavior, pass 'sort=False'.\n",
      "\n",
      "To retain the current behavior and silence the warning, pass 'sort=True'.\n",
      "\n"
     ]
    }
   ],
   "source": [
    "# Loop through state code list, skipping states without data\n",
    "fail_master = []\n",
    "year_list = ['2009', '2010', '2011', '2012', '2013', '2014', '2015']\n",
    "for year in year_list:\n",
    "    for code in state_codes:\n",
    "        try:\n",
    "            census_test = requests.get(f'https://api.census.gov/data/{year}/acs/flows?get=FULL1_NAME,FULL2_NAME,MOVEDIN,MOVEDNET' +\n",
    "                                   f'&for=county:*&in=state:{code}&key=' +\n",
    "                                   census_key).json()\n",
    "            census_df = pd.DataFrame(census_test)\n",
    "            census_df.columns = census_df.iloc[0]\n",
    "            census_df = census_df[1:]\n",
    "            census_df = census_df.rename(columns = {'FULL1_NAME': 'County',\n",
    "                                                    'FULL2_NAME': 'Origin',\n",
    "                                                    'MOVEDIN': f'{year}IN',\n",
    "                                                    'MOVEDNET': f'{year}NET'})\n",
    "            if code == '01':\n",
    "                census_yearly = census_df\n",
    "            else:\n",
    "                census_yearly = pd.concat([census_yearly, census_df])\n",
    "        except:\n",
    "            fail_master.append(code)\n",
    "    if year == '2009':\n",
    "        census_master = census_yearly\n",
    "    else:\n",
    "        census_yearly = census_yearly[['County', 'Origin', f'{year}IN', f'{year}NET']]\n",
    "        census_master = census_master.merge(census_yearly, on = ['County', 'Origin'])"
   ]
  },
  {
   "cell_type": "code",
   "execution_count": 24,
   "metadata": {},
   "outputs": [
    {
     "data": {
      "text/html": [
       "<div>\n",
       "<style scoped>\n",
       "    .dataframe tbody tr th:only-of-type {\n",
       "        vertical-align: middle;\n",
       "    }\n",
       "\n",
       "    .dataframe tbody tr th {\n",
       "        vertical-align: top;\n",
       "    }\n",
       "\n",
       "    .dataframe thead th {\n",
       "        text-align: right;\n",
       "    }\n",
       "</style>\n",
       "<table border=\"1\" class=\"dataframe\">\n",
       "  <thead>\n",
       "    <tr style=\"text-align: right;\">\n",
       "      <th></th>\n",
       "      <th>MOVEDIN</th>\n",
       "      <th>MOVEDNET</th>\n",
       "      <th>FULL2_NAME</th>\n",
       "      <th>FULL1_NAME</th>\n",
       "      <th>state</th>\n",
       "      <th>county</th>\n",
       "    </tr>\n",
       "  </thead>\n",
       "  <tbody>\n",
       "    <tr>\n",
       "      <th>1</th>\n",
       "      <td>32</td>\n",
       "      <td>None</td>\n",
       "      <td>Asia</td>\n",
       "      <td>Autauga County, Alabama</td>\n",
       "      <td>01</td>\n",
       "      <td>001</td>\n",
       "    </tr>\n",
       "    <tr>\n",
       "      <th>2</th>\n",
       "      <td>7</td>\n",
       "      <td>None</td>\n",
       "      <td>Caribbean</td>\n",
       "      <td>Autauga County, Alabama</td>\n",
       "      <td>01</td>\n",
       "      <td>001</td>\n",
       "    </tr>\n",
       "    <tr>\n",
       "      <th>3</th>\n",
       "      <td>37</td>\n",
       "      <td>None</td>\n",
       "      <td>Europe</td>\n",
       "      <td>Autauga County, Alabama</td>\n",
       "      <td>01</td>\n",
       "      <td>001</td>\n",
       "    </tr>\n",
       "    <tr>\n",
       "      <th>4</th>\n",
       "      <td>18</td>\n",
       "      <td>None</td>\n",
       "      <td>U.S. Island Areas</td>\n",
       "      <td>Autauga County, Alabama</td>\n",
       "      <td>01</td>\n",
       "      <td>001</td>\n",
       "    </tr>\n",
       "    <tr>\n",
       "      <th>5</th>\n",
       "      <td>11</td>\n",
       "      <td>None</td>\n",
       "      <td>Northern America</td>\n",
       "      <td>Autauga County, Alabama</td>\n",
       "      <td>01</td>\n",
       "      <td>001</td>\n",
       "    </tr>\n",
       "  </tbody>\n",
       "</table>\n",
       "</div>"
      ],
      "text/plain": [
       "0 MOVEDIN MOVEDNET         FULL2_NAME               FULL1_NAME state county\n",
       "1      32     None               Asia  Autauga County, Alabama    01    001\n",
       "2       7     None          Caribbean  Autauga County, Alabama    01    001\n",
       "3      37     None             Europe  Autauga County, Alabama    01    001\n",
       "4      18     None  U.S. Island Areas  Autauga County, Alabama    01    001\n",
       "5      11     None   Northern America  Autauga County, Alabama    01    001"
      ]
     },
     "execution_count": 24,
     "metadata": {},
     "output_type": "execute_result"
    }
   ],
   "source": [
    "fail_master\n",
    "census_master.head()"
   ]
  },
  {
   "cell_type": "code",
   "execution_count": 34,
   "metadata": {},
   "outputs": [],
   "source": [
    "census_master.to_csv('census_output.csv')"
   ]
  },
  {
   "cell_type": "code",
   "execution_count": null,
   "metadata": {},
   "outputs": [],
   "source": []
  }
 ],
 "metadata": {
  "kernelspec": {
   "display_name": "Python 3",
   "language": "python",
   "name": "python3"
  },
  "language_info": {
   "codemirror_mode": {
    "name": "ipython",
    "version": 3
   },
   "file_extension": ".py",
   "mimetype": "text/x-python",
   "name": "python",
   "nbconvert_exporter": "python",
   "pygments_lexer": "ipython3",
   "version": "3.7.0"
  }
 },
 "nbformat": 4,
 "nbformat_minor": 2
}
