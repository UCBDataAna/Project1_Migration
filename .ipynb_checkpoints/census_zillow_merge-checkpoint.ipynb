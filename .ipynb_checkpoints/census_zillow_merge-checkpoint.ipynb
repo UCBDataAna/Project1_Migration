{
 "cells": [
  {
   "cell_type": "code",
   "execution_count": 40,
   "metadata": {},
   "outputs": [],
   "source": [
    "#Dependencies and api_keys\n",
    "import requests\n",
    "from pprint import pprint\n",
    "from config import census_key\n",
    "import json\n",
    "import pandas as pd"
   ]
  },
  {
   "cell_type": "code",
   "execution_count": null,
   "metadata": {},
   "outputs": [],
   "source": []
  },
  {
   "cell_type": "code",
   "execution_count": 41,
   "metadata": {},
   "outputs": [
    {
     "data": {
      "text/html": [
       "<div>\n",
       "<style scoped>\n",
       "    .dataframe tbody tr th:only-of-type {\n",
       "        vertical-align: middle;\n",
       "    }\n",
       "\n",
       "    .dataframe tbody tr th {\n",
       "        vertical-align: top;\n",
       "    }\n",
       "\n",
       "    .dataframe thead th {\n",
       "        text-align: right;\n",
       "    }\n",
       "</style>\n",
       "<table border=\"1\" class=\"dataframe\">\n",
       "  <thead>\n",
       "    <tr style=\"text-align: right;\">\n",
       "      <th></th>\n",
       "      <th>MOVEDIN</th>\n",
       "      <th>GEOID2</th>\n",
       "      <th>GEOID1</th>\n",
       "      <th>MOVEDNET</th>\n",
       "      <th>MOVEDOUT</th>\n",
       "      <th>FULL2_NAME</th>\n",
       "      <th>FULL1_NAME</th>\n",
       "      <th>state</th>\n",
       "      <th>county</th>\n",
       "    </tr>\n",
       "  </thead>\n",
       "  <tbody>\n",
       "    <tr>\n",
       "      <th>18668</th>\n",
       "      <td>0</td>\n",
       "      <td>50007</td>\n",
       "      <td>06087</td>\n",
       "      <td>-11</td>\n",
       "      <td>11</td>\n",
       "      <td>Chittenden County, Vermont</td>\n",
       "      <td>Santa Cruz County, California</td>\n",
       "      <td>06</td>\n",
       "      <td>087</td>\n",
       "    </tr>\n",
       "    <tr>\n",
       "      <th>142</th>\n",
       "      <td>194</td>\n",
       "      <td>12086</td>\n",
       "      <td>06001</td>\n",
       "      <td>-96</td>\n",
       "      <td>290</td>\n",
       "      <td>Miami-Dade County, Florida</td>\n",
       "      <td>Alameda County, California</td>\n",
       "      <td>06</td>\n",
       "      <td>001</td>\n",
       "    </tr>\n",
       "    <tr>\n",
       "      <th>15687</th>\n",
       "      <td>12</td>\n",
       "      <td>3400557510</td>\n",
       "      <td>06075</td>\n",
       "      <td>12</td>\n",
       "      <td>0</td>\n",
       "      <td>Pemberton township, Burlington County, New Jersey</td>\n",
       "      <td>San Francisco County, California</td>\n",
       "      <td>06</td>\n",
       "      <td>075</td>\n",
       "    </tr>\n",
       "    <tr>\n",
       "      <th>19199</th>\n",
       "      <td>16</td>\n",
       "      <td>06033</td>\n",
       "      <td>06095</td>\n",
       "      <td>-92</td>\n",
       "      <td>108</td>\n",
       "      <td>Lake County, California</td>\n",
       "      <td>Solano County, California</td>\n",
       "      <td>06</td>\n",
       "      <td>095</td>\n",
       "    </tr>\n",
       "    <tr>\n",
       "      <th>14082</th>\n",
       "      <td>12</td>\n",
       "      <td>40051</td>\n",
       "      <td>06073</td>\n",
       "      <td>12</td>\n",
       "      <td>0</td>\n",
       "      <td>Grady County, Oklahoma</td>\n",
       "      <td>San Diego County, California</td>\n",
       "      <td>06</td>\n",
       "      <td>073</td>\n",
       "    </tr>\n",
       "  </tbody>\n",
       "</table>\n",
       "</div>"
      ],
      "text/plain": [
       "      MOVEDIN      GEOID2 GEOID1 MOVEDNET MOVEDOUT  \\\n",
       "18668       0       50007  06087      -11       11   \n",
       "142       194       12086  06001      -96      290   \n",
       "15687      12  3400557510  06075       12        0   \n",
       "19199      16       06033  06095      -92      108   \n",
       "14082      12       40051  06073       12        0   \n",
       "\n",
       "                                              FULL2_NAME  \\\n",
       "18668                         Chittenden County, Vermont   \n",
       "142                           Miami-Dade County, Florida   \n",
       "15687  Pemberton township, Burlington County, New Jersey   \n",
       "19199                            Lake County, California   \n",
       "14082                             Grady County, Oklahoma   \n",
       "\n",
       "                             FULL1_NAME state county  \n",
       "18668     Santa Cruz County, California    06    087  \n",
       "142          Alameda County, California    06    001  \n",
       "15687  San Francisco County, California    06    075  \n",
       "19199         Solano County, California    06    095  \n",
       "14082      San Diego County, California    06    073  "
      ]
     },
     "execution_count": 41,
     "metadata": {},
     "output_type": "execute_result"
    }
   ],
   "source": [
    "\n",
    "census_test = requests.get('https://api.census.gov/data/2013/acs/flows?get=MOVEDIN,GEOID2,GEOID1,MOVEDNET,MOVEDOUT,FULL2_NAME,FULL1_NAME&for=county:*&in=state:06&key='+census_key).json()\n",
    "\n",
    "        \n",
    "census_df = pd.DataFrame(census_test)\n",
    "headers = census_df.iloc[0]\n",
    "census_df = census_df.iloc[1:]\n",
    "census_df = census_df.rename(columns = headers)\n",
    "census_df.fillna(0,inplace=True)\n",
    "census_df.sample(5)"
   ]
  },
  {
   "cell_type": "code",
   "execution_count": 42,
   "metadata": {},
   "outputs": [
    {
     "data": {
      "text/html": [
       "<div>\n",
       "<style scoped>\n",
       "    .dataframe tbody tr th:only-of-type {\n",
       "        vertical-align: middle;\n",
       "    }\n",
       "\n",
       "    .dataframe tbody tr th {\n",
       "        vertical-align: top;\n",
       "    }\n",
       "\n",
       "    .dataframe thead th {\n",
       "        text-align: right;\n",
       "    }\n",
       "</style>\n",
       "<table border=\"1\" class=\"dataframe\">\n",
       "  <thead>\n",
       "    <tr style=\"text-align: right;\">\n",
       "      <th></th>\n",
       "      <th>FULL1_NAME</th>\n",
       "      <th>County</th>\n",
       "    </tr>\n",
       "  </thead>\n",
       "  <tbody>\n",
       "    <tr>\n",
       "      <th>0</th>\n",
       "      <td>Abbeville County, South Carolina</td>\n",
       "      <td>1795</td>\n",
       "    </tr>\n",
       "    <tr>\n",
       "      <th>1</th>\n",
       "      <td>Acadia County, Louisiana</td>\n",
       "      <td>2166</td>\n",
       "    </tr>\n",
       "    <tr>\n",
       "      <th>2</th>\n",
       "      <td>Accomack County, Virginia</td>\n",
       "      <td>1694</td>\n",
       "    </tr>\n",
       "    <tr>\n",
       "      <th>3</th>\n",
       "      <td>Ada County, Idaho</td>\n",
       "      <td>1203</td>\n",
       "    </tr>\n",
       "    <tr>\n",
       "      <th>4</th>\n",
       "      <td>Adair County, Iowa</td>\n",
       "      <td>2546</td>\n",
       "    </tr>\n",
       "  </tbody>\n",
       "</table>\n",
       "</div>"
      ],
      "text/plain": [
       "                         FULL1_NAME  County\n",
       "0  Abbeville County, South Carolina    1795\n",
       "1          Acadia County, Louisiana    2166\n",
       "2         Accomack County, Virginia    1694\n",
       "3                 Ada County, Idaho    1203\n",
       "4                Adair County, Iowa    2546"
      ]
     },
     "execution_count": 42,
     "metadata": {},
     "output_type": "execute_result"
    }
   ],
   "source": [
    "county_lookup = pd.read_csv(\"./quandl_convert.csv\")\n",
    "county_lookup.head()"
   ]
  },
  {
   "cell_type": "code",
   "execution_count": 47,
   "metadata": {},
   "outputs": [],
   "source": [
    "county_merge = census_df.head().merge(county_lookup,on=\"FULL1_NAME\")\n",
    "county_merge = county_merge.count()"
   ]
  },
  {
   "cell_type": "code",
   "execution_count": 48,
   "metadata": {},
   "outputs": [
    {
     "ename": "AttributeError",
     "evalue": "'Series' object has no attribute 'merge'",
     "output_type": "error",
     "traceback": [
      "\u001b[1;31m---------------------------------------------------------------------------\u001b[0m",
      "\u001b[1;31mAttributeError\u001b[0m                            Traceback (most recent call last)",
      "\u001b[1;32m<ipython-input-48-c3069a14332c>\u001b[0m in \u001b[0;36m<module>\u001b[1;34m()\u001b[0m\n\u001b[0;32m      2\u001b[0m \u001b[0mzil_output\u001b[0m\u001b[1;33m\u001b[0m\u001b[0m\n\u001b[0;32m      3\u001b[0m \u001b[1;33m\u001b[0m\u001b[0m\n\u001b[1;32m----> 4\u001b[1;33m \u001b[0mzil_census_merge\u001b[0m \u001b[1;33m=\u001b[0m \u001b[0mcounty_merge\u001b[0m\u001b[1;33m.\u001b[0m\u001b[0mmerge\u001b[0m\u001b[1;33m(\u001b[0m\u001b[0mzil_output\u001b[0m\u001b[1;33m,\u001b[0m\u001b[0mon\u001b[0m\u001b[1;33m=\u001b[0m\u001b[1;34m\"County\"\u001b[0m\u001b[1;33m)\u001b[0m\u001b[1;33m\u001b[0m\u001b[0m\n\u001b[0m\u001b[0;32m      5\u001b[0m \u001b[0mzil_census_merge\u001b[0m\u001b[1;33m\u001b[0m\u001b[0m\n",
      "\u001b[1;32m~\\Anaconda3\\lib\\site-packages\\pandas\\core\\generic.py\u001b[0m in \u001b[0;36m__getattr__\u001b[1;34m(self, name)\u001b[0m\n\u001b[0;32m   4370\u001b[0m             \u001b[1;32mif\u001b[0m \u001b[0mself\u001b[0m\u001b[1;33m.\u001b[0m\u001b[0m_info_axis\u001b[0m\u001b[1;33m.\u001b[0m\u001b[0m_can_hold_identifiers_and_holds_name\u001b[0m\u001b[1;33m(\u001b[0m\u001b[0mname\u001b[0m\u001b[1;33m)\u001b[0m\u001b[1;33m:\u001b[0m\u001b[1;33m\u001b[0m\u001b[0m\n\u001b[0;32m   4371\u001b[0m                 \u001b[1;32mreturn\u001b[0m \u001b[0mself\u001b[0m\u001b[1;33m[\u001b[0m\u001b[0mname\u001b[0m\u001b[1;33m]\u001b[0m\u001b[1;33m\u001b[0m\u001b[0m\n\u001b[1;32m-> 4372\u001b[1;33m             \u001b[1;32mreturn\u001b[0m \u001b[0mobject\u001b[0m\u001b[1;33m.\u001b[0m\u001b[0m__getattribute__\u001b[0m\u001b[1;33m(\u001b[0m\u001b[0mself\u001b[0m\u001b[1;33m,\u001b[0m \u001b[0mname\u001b[0m\u001b[1;33m)\u001b[0m\u001b[1;33m\u001b[0m\u001b[0m\n\u001b[0m\u001b[0;32m   4373\u001b[0m \u001b[1;33m\u001b[0m\u001b[0m\n\u001b[0;32m   4374\u001b[0m     \u001b[1;32mdef\u001b[0m \u001b[0m__setattr__\u001b[0m\u001b[1;33m(\u001b[0m\u001b[0mself\u001b[0m\u001b[1;33m,\u001b[0m \u001b[0mname\u001b[0m\u001b[1;33m,\u001b[0m \u001b[0mvalue\u001b[0m\u001b[1;33m)\u001b[0m\u001b[1;33m:\u001b[0m\u001b[1;33m\u001b[0m\u001b[0m\n",
      "\u001b[1;31mAttributeError\u001b[0m: 'Series' object has no attribute 'merge'"
     ]
    }
   ],
   "source": [
    "zil_output = pd.read_csv('./zillow_output.csv')\n",
    "zil_output\n",
    "\n",
    "zil_census_merge = county_merge.merge(zil_output,on=\"County\")\n",
    "zil_census_merge"
   ]
  },
  {
   "cell_type": "code",
   "execution_count": null,
   "metadata": {},
   "outputs": [],
   "source": []
  }
 ],
 "metadata": {
  "kernelspec": {
   "display_name": "Python 3",
   "language": "python",
   "name": "python3"
  },
  "language_info": {
   "codemirror_mode": {
    "name": "ipython",
    "version": 3
   },
   "file_extension": ".py",
   "mimetype": "text/x-python",
   "name": "python",
   "nbconvert_exporter": "python",
   "pygments_lexer": "ipython3",
   "version": "3.6.5"
  }
 },
 "nbformat": 4,
 "nbformat_minor": 2
}
