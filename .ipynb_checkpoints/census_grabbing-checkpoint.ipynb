{
 "cells": [
  {
   "cell_type": "code",
<<<<<<< HEAD
   "execution_count": 5,
=======
   "execution_count": 6,
>>>>>>> zillow_merge
   "metadata": {},
   "outputs": [],
   "source": [
    "#Dependencies and api_keys\n",
    "import requests\n",
    "import pandas as pd\n",
    "from pprint import pprint\n",
    "from config import census_key\n",
    "import json\n",
    "import pandas as pd"
   ]
  },
  {
   "cell_type": "code",
<<<<<<< HEAD
   "execution_count": 14,
   "metadata": {},
   "outputs": [
    {
     "data": {
      "text/plain": [
       "'01'"
      ]
     },
     "execution_count": 14,
     "metadata": {},
     "output_type": "execute_result"
    }
   ],
   "source": [
    "# Create list of state codes\n",
    "state_codes = []\n",
    "for number in range(1, 10):\n",
    "    state_codes.append('0{0}'.format(number))\n",
    "for number in range(11,52):\n",
    "    state_codes.append('{0}'.format(number))\n",
    "state_codes[0]"
   ]
  },
  {
   "cell_type": "code",
   "execution_count": 39,
   "metadata": {},
   "outputs": [],
   "source": [
    "# Loop through state code list, skipping states without data\n",
    "fail_master = []\n",
    "for code in state_codes:\n",
    "    try:\n",
    "        census_test = requests.get('https://api.census.gov/data/2009/acs/flows?get=MOVEDIN,MOVEDOUT,GEOID2,GEOID1,MOVEDNET,FULL2_NAME,FULL1_NAME' +\n",
    "                               '&for=county:*&in=state:{0}&key='.format(code) +\n",
    "                               census_key).json()\n",
    "        census_df = pd.DataFrame(census_test)\n",
    "        census_df.columns = census_df.iloc[0]\n",
    "        census_df = census_df[1:]\n",
    "        if code == '01':\n",
    "            census_master = census_df\n",
    "        else:\n",
    "            census_master = pd.concat([census_master, census_df])\n",
    "    except:\n",
    "        fail_master.append(code)"
=======
   "execution_count": null,
   "metadata": {},
   "outputs": [],
   "source": []
  },
  {
   "cell_type": "code",
   "execution_count": 13,
   "metadata": {},
   "outputs": [
    {
     "ename": "NameError",
     "evalue": "name 'pd' is not defined",
     "output_type": "error",
     "traceback": [
      "\u001b[1;31m---------------------------------------------------------------------------\u001b[0m",
      "\u001b[1;31mNameError\u001b[0m                                 Traceback (most recent call last)",
      "\u001b[1;32m<ipython-input-13-387f74967508>\u001b[0m in \u001b[0;36m<module>\u001b[1;34m()\u001b[0m\n\u001b[0;32m      3\u001b[0m \u001b[1;33m\u001b[0m\u001b[0m\n\u001b[0;32m      4\u001b[0m \u001b[1;33m\u001b[0m\u001b[0m\n\u001b[1;32m----> 5\u001b[1;33m \u001b[0mcensus_df\u001b[0m \u001b[1;33m=\u001b[0m \u001b[0mpd\u001b[0m\u001b[1;33m.\u001b[0m\u001b[0mDataFrame\u001b[0m\u001b[1;33m(\u001b[0m\u001b[0mcensus_test\u001b[0m\u001b[1;33m)\u001b[0m\u001b[1;33m\u001b[0m\u001b[0m\n\u001b[0m\u001b[0;32m      6\u001b[0m \u001b[0mcensus_df\u001b[0m\u001b[1;33m.\u001b[0m\u001b[0mhead\u001b[0m\u001b[1;33m(\u001b[0m\u001b[1;33m)\u001b[0m\u001b[1;33m\u001b[0m\u001b[0m\n",
      "\u001b[1;31mNameError\u001b[0m: name 'pd' is not defined"
     ]
    }
   ],
   "source": [
    "\n",
    "census_test = requests.get('https://api.census.gov/data/2013/acs/flows?get=MOVEDIN,GEOID2,GEOID1,MOVEDNET,MOVEDOUT,FULL2_NAME,FULL1_NAME&for=county:*&in=state:06&key='+census_key).json()\n",
    "\n",
    "        \n",
    "census_df = pd.DataFrame(census_test)\n",
    "census_df.head()"
>>>>>>> zillow_merge
   ]
  },
  {
   "cell_type": "code",
<<<<<<< HEAD
   "execution_count": 40,
   "metadata": {},
   "outputs": [
    {
     "data": {
      "text/plain": [
       "['03', '07', '14', '43']"
      ]
     },
     "execution_count": 40,
     "metadata": {},
     "output_type": "execute_result"
    }
   ],
   "source": [
    "fail_master"
   ]
=======
   "execution_count": null,
   "metadata": {},
   "outputs": [],
   "source": []
>>>>>>> zillow_merge
  },
  {
   "cell_type": "code",
   "execution_count": null,
   "metadata": {},
   "outputs": [],
   "source": []
  }
 ],
 "metadata": {
  "kernelspec": {
   "display_name": "Python 3",
   "language": "python",
   "name": "python3"
<<<<<<< HEAD
  },
  "language_info": {
   "codemirror_mode": {
    "name": "ipython",
    "version": 3
   },
   "file_extension": ".py",
   "mimetype": "text/x-python",
   "name": "python",
   "nbconvert_exporter": "python",
   "pygments_lexer": "ipython3",
   "version": "3.7.0"
=======
>>>>>>> zillow_merge
  }
 },
 "nbformat": 4,
 "nbformat_minor": 2
}
