{
 "cells": [
  {
   "cell_type": "code",
<<<<<<< Updated upstream
   "execution_count": null,
=======
   "execution_count": 15,
>>>>>>> Stashed changes
   "metadata": {},
   "outputs": [],
   "source": [
    "#Dependencies and api_keys\n",
    "import requests\n",
    "from pprint import pprint\n",
    "from config import census_key\n",
    "import json"
   ]
  },
  {
   "cell_type": "code",
<<<<<<< Updated upstream
   "execution_count": 22,
   "metadata": {},
   "outputs": [
    {
     "data": {
      "text/plain": [
       "'01'"
      ]
     },
     "execution_count": 22,
     "metadata": {},
     "output_type": "execute_result"
    }
   ],
   "source": [
    "# Create list of state codes\n",
    "state_codes = []\n",
    "for number in range(1, 10):\n",
    "    state_codes.append('0{0}'.format(number))\n",
    "for number in range(11,52):\n",
    "    state_codes.append('{0}'.format(number))\n",
    "state_codes[0]"
   ]
  },
  {
   "cell_type": "code",
   "execution_count": 39,
=======
   "execution_count": 16,
>>>>>>> Stashed changes
   "metadata": {},
   "outputs": [
    {
     "name": "stdout",
     "output_type": "stream",
     "text": [
      "https://api.census.gov/data/2009/acs/flows?get=MOVEDIN,MOVEDOUT,FULL2_NAME,FULL1_NAME&for=county:*&in=state:06&key=8af982c0225184574d2b32c1415b5a81ba565db4\n"
     ]
    }
   ],
   "source": [
<<<<<<< Updated upstream
    "# Loop through state code list, skipping states without data\n",
    "census_master = []\n",
    "fail_master = []\n",
    "for code in state_codes:\n",
    "    try:\n",
    "        census_test = requests.get('https://api.census.gov/data/2009/acs/flows?get=MOVEDIN,MOVEDOUT,GEOID2,GEOID1,MOVEDNET,FULL2_NAME,FULL1_NAME' +\n",
    "                               '&for=county:*&in=state:{0}&key='.format(code) +\n",
    "                               census_key).json()\n",
    "        census_master.append(census_test)\n",
    "    except:\n",
    "        fail_master.append(code)"
=======
    "print('https://api.census.gov/data/2009/acs/flows?get=MOVEDIN,MOVEDOUT,FULL2_NAME,FULL1_NAME&for=county:*&in=state:06&key=' + census_key)"
>>>>>>> Stashed changes
   ]
  },
  {
   "cell_type": "code",
<<<<<<< Updated upstream
   "execution_count": 40,
   "metadata": {},
   "outputs": [
    {
     "data": {
      "text/plain": [
       "['03', '07', '14', '43']"
      ]
     },
     "execution_count": 40,
     "metadata": {},
     "output_type": "execute_result"
=======
   "execution_count": 17,
   "metadata": {},
   "outputs": [
    {
     "name": "stdout",
     "output_type": "stream",
     "text": [
      "<Response [200]>\n"
     ]
    }
   ],
   "source": [
    "census_test = requests.get('https://api.census.gov/data/2009/acs/flows?get=MOVEDIN,MOVEDOUT,FULL2_NAME,FULL1_NAME&for=county:*&in=state:06&key=' + census_key).json()\n",
    "print(census_test)"
   ]
  },
  {
   "cell_type": "code",
   "execution_count": 18,
   "metadata": {},
   "outputs": [
    {
     "name": "stdout",
     "output_type": "stream",
     "text": [
      "<Response [200]>\n"
     ]
>>>>>>> Stashed changes
    }
   ],
   "source": [
    "fail_master"
   ]
  }
 ],
 "metadata": {
  "kernelspec": {
   "display_name": "Python 3",
   "language": "python",
   "name": "python3"
  },
  "language_info": {
   "codemirror_mode": {
    "name": "ipython",
    "version": 3
   },
   "file_extension": ".py",
   "mimetype": "text/x-python",
   "name": "python",
   "nbconvert_exporter": "python",
   "pygments_lexer": "ipython3",
   "version": "3.6.5"
  }
 },
 "nbformat": 4,
 "nbformat_minor": 2
}
