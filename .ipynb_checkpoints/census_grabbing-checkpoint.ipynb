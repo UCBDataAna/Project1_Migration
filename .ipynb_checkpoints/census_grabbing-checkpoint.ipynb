{
 "cells": [
  {
   "cell_type": "code",
   "execution_count": 1,
   "metadata": {},
   "outputs": [],
   "source": [
    "#Dependencies and api_keys\n",
    "import requests\n",
    "import pandas as pd\n",
    "from pprint import pprint\n",
    "from config import census_key\n",
    "import json"
   ]
  },
  {
   "cell_type": "code",
   "execution_count": 2,
   "metadata": {},
   "outputs": [
    {
     "data": {
      "text/plain": [
       "'01'"
      ]
     },
     "execution_count": 2,
     "metadata": {},
     "output_type": "execute_result"
    }
   ],
   "source": [
    "# Create list of state codes\n",
    "state_codes = []\n",
    "for number in range(1, 10):\n",
    "    state_codes.append('0{0}'.format(number))\n",
    "for number in range(11,52):\n",
    "    state_codes.append('{0}'.format(number))\n",
    "state_codes[0]"
   ]
  },
  {
   "cell_type": "code",
   "execution_count": 3,
   "metadata": {},
   "outputs": [
    {
     "name": "stdout",
     "output_type": "stream",
     "text": [
      "2009 01 Success\n",
      "2009 02 Success\n",
      "2009 03 FAILED\n",
      "2009 04 Success\n",
      "2009 05 Success\n",
      "2009 06 Success\n",
      "2009 07 FAILED\n",
      "2009 08 Success\n",
      "2009 09 Success\n",
      "2009 11 Success\n",
      "2009 12 Success\n",
      "2009 13 Success\n",
      "2009 14 FAILED\n",
      "2009 15 Success\n",
      "2009 16 Success\n",
      "2009 17 Success\n",
      "2009 18 Success\n",
      "2009 19 Success\n",
      "2009 20 Success\n",
      "2009 21 Success\n",
      "2009 22 Success\n",
      "2009 23 Success\n",
      "2009 24 Success\n",
      "2009 25 Success\n",
      "2009 26 Success\n",
      "2009 27 Success\n",
      "2009 28 Success\n",
      "2009 29 Success\n",
      "2009 30 Success\n",
      "2009 31 Success\n",
      "2009 32 Success\n",
      "2009 33 Success\n",
      "2009 34 Success\n",
      "2009 35 Success\n",
      "2009 36 Success\n",
      "2009 37 Success\n",
      "2009 38 Success\n",
      "2009 39 Success\n",
      "2009 40 Success\n",
      "2009 41 Success\n",
      "2009 42 Success\n",
      "2009 43 FAILED\n",
      "2009 44 Success\n",
      "2009 45 Success\n",
      "2009 46 Success\n",
      "2009 47 Success\n",
      "2009 48 Success\n",
      "2009 49 Success\n",
      "2009 50 Success\n",
      "2009 51 Success\n",
      "2010 01 Success\n",
      "2010 02 Success\n",
      "2010 03 FAILED\n",
      "2010 04 Success\n",
      "2010 05 Success\n",
      "2010 06 Success\n",
      "2010 07 FAILED\n",
      "2010 08 Success\n",
      "2010 09 Success\n",
      "2010 11 Success\n",
      "2010 12 Success\n",
      "2010 13 Success\n",
      "2010 14 FAILED\n",
      "2010 15 Success\n",
      "2010 16 Success\n",
      "2010 17 Success\n",
      "2010 18 Success\n",
      "2010 19 Success\n",
      "2010 20 Success\n",
      "2010 21 Success\n",
      "2010 22 Success\n",
      "2010 23 Success\n",
      "2010 24 Success\n",
      "2010 25 Success\n",
      "2010 26 Success\n",
      "2010 27 Success\n",
      "2010 28 Success\n",
      "2010 29 Success\n",
      "2010 30 Success\n",
      "2010 31 Success\n",
      "2010 32 Success\n",
      "2010 33 Success\n",
      "2010 34 Success\n",
      "2010 35 Success\n",
      "2010 36 Success\n",
      "2010 37 Success\n",
      "2010 38 Success\n",
      "2010 39 Success\n",
      "2010 40 Success\n",
      "2010 41 Success\n",
      "2010 42 Success\n",
      "2010 43 FAILED\n",
      "2010 44 Success\n",
      "2010 45 Success\n",
      "2010 46 Success\n",
      "2010 47 Success\n",
      "2010 48 Success\n",
      "2010 49 Success\n",
      "2010 50 Success\n",
      "2010 51 Success\n"
     ]
    }
   ],
   "source": [
    "# Loop through state code list, skipping states without data\n",
    "fail_master = []\n",
    "year_list = ['2009', '2010','2011', '2012', '2013', '2014', '2015']\n",
    "for year in year_list:\n",
    "    for code in state_codes:\n",
    "        try:\n",
    "            census_test = requests.get(f'https://api.census.gov/data/{year}/acs/flows?get=FULL1_NAME,FULL2_NAME,MOVEDIN,MOVEDNET' +\n",
    "                                   f'&for=county:*&in=state:{code}&key=' +\n",
    "                                   census_key).json()\n",
    "            census_df = pd.DataFrame(census_test)\n",
    "            census_df.columns = census_df.iloc[0]\n",
    "            census_df = census_df[1:]\n",
    "            census_df = census_df.rename(columns = {'FULL1_NAME': 'County',\n",
    "                                                    'FULL2_NAME': 'Origin',\n",
    "                                                    'MOVEDIN': f'{year}IN',\n",
    "                                                    'MOVEDNET': f'{year}NET'})\n",
    "            if code == '01':\n",
    "                census_yearly = census_df\n",
    "                print(year+\" \"+code+\" Success\")\n",
    "            else:\n",
    "                census_yearly = pd.concat([census_yearly, census_df])\n",
    "                print(year+\" \"+code+\" Success\")\n",
    "        except:\n",
    "            fail_master.append(code)\n",
    "            print(year+\" \"+code+\" FAILED\")\n",
    "    if year == '2009':\n",
    "        census_master = census_yearly\n",
    "    else:\n",
    "        census_yearly = census_yearly[['County', 'Origin', f'{year}IN', f'{year}NET']]\n",
    "        census_master = census_master.merge(census_yearly, on = ['County', 'Origin'])"
   ]
  },
  {
   "cell_type": "code",
   "execution_count": 6,
   "metadata": {},
   "outputs": [
    {
     "data": {
      "text/plain": [
       "['03', '07', '14', '43', '03', '07', '14', '43']"
      ]
     },
     "execution_count": 6,
     "metadata": {},
     "output_type": "execute_result"
    }
   ],
   "source": [
    "fail_master\n",
    "fail_master"
   ]
  },
  {
   "cell_type": "code",
   "execution_count": 9,
   "metadata": {},
   "outputs": [],
   "source": [
    "census_master.to_csv('./census_output.csv')"
   ]
  },
  {
   "cell_type": "code",
   "execution_count": null,
   "metadata": {},
   "outputs": [],
   "source": []
  }
 ],
 "metadata": {
  "kernelspec": {
   "display_name": "Python 3",
   "language": "python",
   "name": "python3"
  },
  "language_info": {
   "codemirror_mode": {
    "name": "ipython",
    "version": 3
   },
   "file_extension": ".py",
   "mimetype": "text/x-python",
   "name": "python",
   "nbconvert_exporter": "python",
   "pygments_lexer": "ipython3",
   "version": "3.6.5"
  }
 },
 "nbformat": 4,
 "nbformat_minor": 2
}
